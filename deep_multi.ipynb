{
 "cells": [
  {
   "cell_type": "markdown",
   "metadata": {},
   "source": [
    "In the previous notebook `random_forests.ipynb` we have seen how the reconstruction of three different tasks\n",
    "- energy\n",
    "- direction\n",
    "- particle type\n",
    "\n",
    "is done classicly using random forests:\n",
    "\n",
    "| Telescope_images | --> | Extracted_features | --> RF --> energy\n",
    "\n",
    "These tasks can also be adressed using CNN, directly from images:\n",
    "\n",
    "| Telescope_image | --> CNN --> energy"
   ]
  },
  {
   "cell_type": "markdown",
   "metadata": {},
   "source": [
    "But instead of three killer sharks\n",
    "<img width=\"400px\" src=\"http://protecttheoceans.org/wordpress/wp-content/uploads/2013/09/FindingNemoSharks.jpg\" alt=\"ctapipe\"/> \n",
    "\n",
    "You might prefer a single friendly big blue whale\n",
    "<img width=\"400px\" src=\"https://images.mediabiz.de/flbilder/max03/auto03/auto36/03360190/b780x450.jpg\" alt=\"ctapipe\"/>\n"
   ]
  },
  {
   "cell_type": "code",
   "execution_count": 1,
   "metadata": {},
   "outputs": [
    {
     "name": "stdout",
     "output_type": "stream",
     "text": [
      "PyTorch version 1.7.0\n",
      "IndexedConv version 1.3\n"
     ]
    }
   ],
   "source": [
    "import torch\n",
    "print('PyTorch version', torch.__version__)\n",
    "from torchvision import transforms\n",
    "import indexedconv\n",
    "print('IndexedConv version', indexedconv.__version__)\n",
    "import os\n",
    "import importlib\n",
    "import torch\n",
    "import torch.nn as nn\n",
    "from minimultinet import MiniMultiNet, load_camera_parameters\n",
    "from astropy.table import Table, vstack, join\n",
    "import tables"
   ]
  },
  {
   "cell_type": "code",
   "execution_count": 2,
   "metadata": {},
   "outputs": [],
   "source": [
    "checkpoint_path = 'data/net_checkpoint.tar'\n",
    "net_trained_parameters = torch.load(checkpoint_path, map_location=torch.device('cpu'))"
   ]
  },
  {
   "cell_type": "code",
   "execution_count": 3,
   "metadata": {},
   "outputs": [
    {
     "data": {
      "text/plain": [
       "torch.Size([16, 2, 7])"
      ]
     },
     "execution_count": 3,
     "metadata": {},
     "output_type": "execute_result"
    }
   ],
   "source": [
    "net_trained_parameters['feature.cv_layer0.cv0.weight'].shape"
   ]
  },
  {
   "cell_type": "code",
   "execution_count": 4,
   "metadata": {},
   "outputs": [],
   "source": [
    "camera_parameters = load_camera_parameters()"
   ]
  },
  {
   "cell_type": "code",
   "execution_count": 5,
   "metadata": {},
   "outputs": [],
   "source": [
    "minimultinet = MiniMultiNet({}, camera_parameters)"
   ]
  },
  {
   "cell_type": "code",
   "execution_count": 6,
   "metadata": {},
   "outputs": [
    {
     "data": {
      "text/plain": [
       "<All keys matched successfully>"
      ]
     },
     "execution_count": 6,
     "metadata": {},
     "output_type": "execute_result"
    }
   ],
   "source": [
    "device = torch.device('cpu')\n",
    "minimultinet.load_state_dict(torch.load(checkpoint_path, map_location=device))"
   ]
  },
  {
   "cell_type": "code",
   "execution_count": 7,
   "metadata": {},
   "outputs": [],
   "source": [
    "# reading parameters and images from the hdf5 file\n",
    "allowed_tels = [1, 2, 3, 4]\n",
    "dl1_path = 'data/dl1.h5'\n",
    "\n",
    "with tables.open_file(dl1_path) as file:\n",
    "    table_images = vstack([Table(file.root[f'/dl1/event/telescope/images/tel_00{i}'].read()) for i in allowed_tels])\n",
    "    table_parameters = vstack([Table(file.root[f'/dl1/event/telescope/parameters/tel_00{i}'].read()) for i in allowed_tels])\n",
    "    simu_parameters = Table(file.root.simulation.event.subarray.shower.read())\n",
    "    \n",
    "good_events = np.isfinite(table_parameters['hillas_intensity'])\n",
    "\n",
    "table_parameters = table_parameters[good_events]\n",
    "table_images = table_images[good_events]\n",
    "table_parameters = join(table_parameters, simu_parameters, keys='event_id')"
   ]
  },
  {
   "cell_type": "code",
   "execution_count": 8,
   "metadata": {},
   "outputs": [
    {
     "data": {
      "text/html": [
       "<i>Table length=46</i>\n",
       "<table id=\"table140596520686992\" class=\"table-striped table-bordered table-condensed\">\n",
       "<thead><tr><th>obs_id</th><th>event_id</th><th>tel_id</th><th>image [1855]</th><th>peak_time [1855]</th><th>image_mask [1855]</th></tr></thead>\n",
       "<thead><tr><th>int32</th><th>int64</th><th>int16</th><th>float32</th><th>float32</th><th>bool</th></tr></thead>\n",
       "<tr><td>7514</td><td>153614</td><td>1</td><td>-1.8468953 .. -2.420372</td><td>23.0 .. 14.0</td><td>False .. False</td></tr>\n",
       "<tr><td>7514</td><td>192801</td><td>1</td><td>-1.0080436 .. 2.7459314</td><td>25.0 .. 21.375969</td><td>False .. False</td></tr>\n",
       "<tr><td>7514</td><td>222202</td><td>1</td><td>2.3900168 .. 3.8427613</td><td>11.747786 .. 27.01762</td><td>False .. False</td></tr>\n",
       "<tr><td>7514</td><td>869911</td><td>1</td><td>-0.86586535 .. -0.71757317</td><td>7.0 .. 29.0</td><td>False .. False</td></tr>\n",
       "<tr><td>7514</td><td>940800</td><td>1</td><td>-0.645489 .. -1.4556164</td><td>8.0 .. 0.0</td><td>False .. False</td></tr>\n",
       "<tr><td>7514</td><td>952004</td><td>1</td><td>-0.6227406 .. -0.42291516</td><td>29.0 .. 22.622976</td><td>False .. False</td></tr>\n",
       "<tr><td>7514</td><td>1096802</td><td>1</td><td>-1.8582697 .. 1.8250699</td><td>27.0 .. 16.29847</td><td>False .. False</td></tr>\n",
       "<tr><td>7514</td><td>1151704</td><td>1</td><td>-0.6170534 .. 1.0158916</td><td>9.0 .. 3.6071281</td><td>False .. False</td></tr>\n",
       "<tr><td>7514</td><td>1633202</td><td>1</td><td>-0.74359214 .. 1.8047569</td><td>0.0 .. 9.277631</td><td>False .. False</td></tr>\n",
       "<tr><td>7514</td><td>31012</td><td>2</td><td>-0.44243342 .. 3.6034596</td><td>18.293615 .. 4.9885764</td><td>False .. False</td></tr>\n",
       "<tr><td>...</td><td>...</td><td>...</td><td>...</td><td>...</td><td>...</td></tr>\n",
       "<tr><td>7514</td><td>222202</td><td>4</td><td>-1.3100833 .. -1.2632775</td><td>1.0 .. 28.0</td><td>False .. False</td></tr>\n",
       "<tr><td>7514</td><td>302408</td><td>4</td><td>2.8717487 .. -1.8088514</td><td>4.5554786 .. 13.0</td><td>False .. False</td></tr>\n",
       "<tr><td>7514</td><td>869911</td><td>4</td><td>1.8977832 .. 0.36395848</td><td>20.656628 .. 6.0389557</td><td>False .. False</td></tr>\n",
       "<tr><td>7514</td><td>880610</td><td>4</td><td>0.6069742 .. 2.2660348</td><td>1.9906225 .. 19.498486</td><td>False .. False</td></tr>\n",
       "<tr><td>7514</td><td>940800</td><td>4</td><td>-2.0429668 .. 0.46808678</td><td>27.0 .. 16.13314</td><td>False .. False</td></tr>\n",
       "<tr><td>7514</td><td>952004</td><td>4</td><td>-1.9490305 .. 0.38478413</td><td>12.0 .. 23.975096</td><td>False .. False</td></tr>\n",
       "<tr><td>7514</td><td>1154506</td><td>4</td><td>-0.09087456 .. -0.07338022</td><td>26.039747 .. 6.737229</td><td>False .. False</td></tr>\n",
       "<tr><td>7514</td><td>1633202</td><td>4</td><td>4.651513 .. 3.7418213</td><td>10.293744 .. 2.6048002</td><td>False .. False</td></tr>\n",
       "<tr><td>7514</td><td>1650600</td><td>4</td><td>-0.21831468 .. -2.2253644</td><td>14.429193 .. 8.0</td><td>False .. False</td></tr>\n",
       "<tr><td>7514</td><td>1680619</td><td>4</td><td>1.6455331 .. 0.5930407</td><td>5.8722553 .. 7.5334826</td><td>False .. False</td></tr>\n",
       "</table>"
      ],
      "text/plain": [
       "<Table length=46>\n",
       "obs_id event_id tel_id ...    peak_time [1855]    image_mask [1855]\n",
       "int32   int64   int16  ...        float32                bool      \n",
       "------ -------- ------ ... ---------------------- -----------------\n",
       "  7514   153614      1 ...           23.0 .. 14.0    False .. False\n",
       "  7514   192801      1 ...      25.0 .. 21.375969    False .. False\n",
       "  7514   222202      1 ...  11.747786 .. 27.01762    False .. False\n",
       "  7514   869911      1 ...            7.0 .. 29.0    False .. False\n",
       "  7514   940800      1 ...             8.0 .. 0.0    False .. False\n",
       "  7514   952004      1 ...      29.0 .. 22.622976    False .. False\n",
       "  7514  1096802      1 ...       27.0 .. 16.29847    False .. False\n",
       "  7514  1151704      1 ...       9.0 .. 3.6071281    False .. False\n",
       "  7514  1633202      1 ...        0.0 .. 9.277631    False .. False\n",
       "  7514    31012      2 ... 18.293615 .. 4.9885764    False .. False\n",
       "   ...      ...    ... ...                    ...               ...\n",
       "  7514   222202      4 ...            1.0 .. 28.0    False .. False\n",
       "  7514   302408      4 ...      4.5554786 .. 13.0    False .. False\n",
       "  7514   869911      4 ... 20.656628 .. 6.0389557    False .. False\n",
       "  7514   880610      4 ... 1.9906225 .. 19.498486    False .. False\n",
       "  7514   940800      4 ...       27.0 .. 16.13314    False .. False\n",
       "  7514   952004      4 ...      12.0 .. 23.975096    False .. False\n",
       "  7514  1154506      4 ...  26.039747 .. 6.737229    False .. False\n",
       "  7514  1633202      4 ... 10.293744 .. 2.6048002    False .. False\n",
       "  7514  1650600      4 ...       14.429193 .. 8.0    False .. False\n",
       "  7514  1680619      4 ... 5.8722553 .. 7.5334826    False .. False"
      ]
     },
     "execution_count": 8,
     "metadata": {},
     "output_type": "execute_result"
    }
   ],
   "source": [
    "table_images"
   ]
  },
  {
   "cell_type": "code",
   "execution_count": 9,
   "metadata": {},
   "outputs": [],
   "source": [
    "event_images = table_images['image']\n",
    "event_times = table_images['peak_time']"
   ]
  },
  {
   "cell_type": "code",
   "execution_count": 10,
   "metadata": {},
   "outputs": [
    {
     "data": {
      "text/plain": [
       "(46, 1855)"
      ]
     },
     "execution_count": 10,
     "metadata": {},
     "output_type": "execute_result"
    }
   ],
   "source": [
    "event_images.shape"
   ]
  },
  {
   "cell_type": "code",
   "execution_count": 11,
   "metadata": {},
   "outputs": [
    {
     "data": {
      "text/plain": [
       "torch.Size([46, 2, 1855])"
      ]
     },
     "execution_count": 11,
     "metadata": {},
     "output_type": "execute_result"
    }
   ],
   "source": [
    "X = torch.tensor([event_images, event_times]).reshape(event_images.shape[0], 2, event_images.shape[1])\n",
    "X.shape"
   ]
  },
  {
   "cell_type": "code",
   "execution_count": 12,
   "metadata": {},
   "outputs": [],
   "source": [
    "pred_dict = minimultinet(X)"
   ]
  },
  {
   "cell_type": "code",
   "execution_count": 13,
   "metadata": {},
   "outputs": [],
   "source": [
    "energy = 10**(pred_dict['energy'].detach().numpy().flatten())\n",
    "\n",
    "reco_alt = pred_dict['direction'].detach()[:,0].numpy()\n",
    "reco_az = pred_dict['direction'].detach()[:,1].numpy()\n",
    "\n",
    "reco_core_x = pred_dict['impact'].detach()[:,0].numpy()\n",
    "reco_core_y = pred_dict['impact'].detach()[:,1].numpy()\n",
    "\n",
    "reco_core_x = pred_dict['impact'].detach()[:,0].numpy()\n",
    "reco_core_y = pred_dict['impact'].detach()[:,1].numpy()\n",
    "\n",
    "reco_gammaness = torch.nn.functional.softmax(pred_dict['class'], dim=1).detach()[:,0].numpy()\n",
    "\n",
    "gammaness_cut = 0.7\n",
    "reco_type = (reco_gammaness > gammaness_cut).astype(int)"
   ]
  },
  {
   "cell_type": "code",
   "execution_count": 14,
   "metadata": {},
   "outputs": [],
   "source": [
    "pred = Table([energy, reco_alt, reco_az, reco_type], \n",
    "      names=['energy', 'reco_alt', 'reco_az', 'reco_type'])"
   ]
  },
  {
   "cell_type": "code",
   "execution_count": 15,
   "metadata": {},
   "outputs": [
    {
     "data": {
      "text/html": [
       "<i>Table length=46</i>\n",
       "<table id=\"table140596525671568\" class=\"table-striped table-bordered table-condensed\">\n",
       "<thead><tr><th>energy</th><th>reco_alt</th><th>reco_az</th><th>reco_type</th></tr></thead>\n",
       "<thead><tr><th>float32</th><th>float32</th><th>float32</th><th>int64</th></tr></thead>\n",
       "<tr><td>0.23090239</td><td>-0.007396615</td><td>0.012644999</td><td>1</td></tr>\n",
       "<tr><td>0.264374</td><td>-0.025621556</td><td>0.046327833</td><td>1</td></tr>\n",
       "<tr><td>0.26127294</td><td>-0.019192815</td><td>0.03591081</td><td>1</td></tr>\n",
       "<tr><td>0.27566203</td><td>-0.024518587</td><td>0.041043054</td><td>1</td></tr>\n",
       "<tr><td>0.2502986</td><td>-0.0043671643</td><td>0.024720225</td><td>1</td></tr>\n",
       "<tr><td>0.24975477</td><td>-0.010767131</td><td>0.047160346</td><td>1</td></tr>\n",
       "<tr><td>0.23738267</td><td>-0.015665114</td><td>0.031296816</td><td>1</td></tr>\n",
       "<tr><td>0.2698539</td><td>-0.033838503</td><td>0.045302007</td><td>1</td></tr>\n",
       "<tr><td>0.30907744</td><td>-0.0496321</td><td>0.055951174</td><td>1</td></tr>\n",
       "<tr><td>0.23588885</td><td>-0.017531283</td><td>0.032201353</td><td>1</td></tr>\n",
       "<tr><td>...</td><td>...</td><td>...</td><td>...</td></tr>\n",
       "<tr><td>5.2465973</td><td>0.036906805</td><td>-0.018541906</td><td>1</td></tr>\n",
       "<tr><td>9.896694</td><td>0.014979455</td><td>-0.01991516</td><td>1</td></tr>\n",
       "<tr><td>15.402199</td><td>5.8428384e-05</td><td>-0.012233343</td><td>1</td></tr>\n",
       "<tr><td>3.3676438</td><td>0.0645573</td><td>-0.015399307</td><td>1</td></tr>\n",
       "<tr><td>7.2521243</td><td>0.0164579</td><td>-0.03142752</td><td>1</td></tr>\n",
       "<tr><td>4.5032525</td><td>0.03692557</td><td>-0.00658207</td><td>1</td></tr>\n",
       "<tr><td>36.127407</td><td>-0.014516718</td><td>-0.044797134</td><td>1</td></tr>\n",
       "<tr><td>8.893941</td><td>0.014924466</td><td>-0.009260479</td><td>1</td></tr>\n",
       "<tr><td>7.4996676</td><td>0.019783411</td><td>-0.010447517</td><td>1</td></tr>\n",
       "<tr><td>8.412042</td><td>0.021115761</td><td>-0.010251563</td><td>1</td></tr>\n",
       "</table>"
      ],
      "text/plain": [
       "<Table length=46>\n",
       "  energy      reco_alt     reco_az    reco_type\n",
       " float32      float32      float32      int64  \n",
       "---------- ------------- ------------ ---------\n",
       "0.23090239  -0.007396615  0.012644999         1\n",
       "  0.264374  -0.025621556  0.046327833         1\n",
       "0.26127294  -0.019192815   0.03591081         1\n",
       "0.27566203  -0.024518587  0.041043054         1\n",
       " 0.2502986 -0.0043671643  0.024720225         1\n",
       "0.24975477  -0.010767131  0.047160346         1\n",
       "0.23738267  -0.015665114  0.031296816         1\n",
       " 0.2698539  -0.033838503  0.045302007         1\n",
       "0.30907744    -0.0496321  0.055951174         1\n",
       "0.23588885  -0.017531283  0.032201353         1\n",
       "       ...           ...          ...       ...\n",
       " 5.2465973   0.036906805 -0.018541906         1\n",
       "  9.896694   0.014979455  -0.01991516         1\n",
       " 15.402199 5.8428384e-05 -0.012233343         1\n",
       " 3.3676438     0.0645573 -0.015399307         1\n",
       " 7.2521243     0.0164579  -0.03142752         1\n",
       " 4.5032525    0.03692557  -0.00658207         1\n",
       " 36.127407  -0.014516718 -0.044797134         1\n",
       "  8.893941   0.014924466 -0.009260479         1\n",
       " 7.4996676   0.019783411 -0.010447517         1\n",
       "  8.412042   0.021115761 -0.010251563         1"
      ]
     },
     "execution_count": 15,
     "metadata": {},
     "output_type": "execute_result"
    }
   ],
   "source": [
    "pred"
   ]
  },
  {
   "cell_type": "code",
   "execution_count": null,
   "metadata": {},
   "outputs": [],
   "source": []
  }
 ],
 "metadata": {
  "kernelspec": {
   "display_name": "Python 3",
   "language": "python",
   "name": "python3"
  },
  "language_info": {
   "codemirror_mode": {
    "name": "ipython",
    "version": 3
   },
   "file_extension": ".py",
   "mimetype": "text/x-python",
   "name": "python",
   "nbconvert_exporter": "python",
   "pygments_lexer": "ipython3",
   "version": "3.7.9"
  }
 },
 "nbformat": 4,
 "nbformat_minor": 4
}
