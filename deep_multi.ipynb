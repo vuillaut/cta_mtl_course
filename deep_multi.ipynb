{
 "cells": [
  {
   "cell_type": "markdown",
   "metadata": {},
   "source": [
    "In the previous notebook `random_forests.ipynb` we have seen how the reconstruction of three different tasks\n",
    "- energy\n",
    "- direction\n",
    "- particle type\n",
    "\n",
    "is done classicly using random forests:\n",
    "\n",
    "| Telescope_images | --> | Extracted_features | --> RF --> energy\n",
    "\n",
    "These tasks can also be adressed using CNN, directly from images:\n",
    "\n",
    "| Telescope_image | --> CNN --> energy"
   ]
  },
  {
   "cell_type": "markdown",
   "metadata": {},
   "source": [
    "But instead of three killer sharks\n",
    "<img width=\"400px\" src=\"http://protecttheoceans.org/wordpress/wp-content/uploads/2013/09/FindingNemoSharks.jpg\" alt=\"ctapipe\"/> \n",
    "\n",
    "You might prefer a single friendly big blue whale\n",
    "<img width=\"400px\" src=\"https://images.mediabiz.de/flbilder/max03/auto03/auto36/03360190/b780x450.jpg\" alt=\"ctapipe\"/>\n"
   ]
  },
  {
   "cell_type": "code",
   "execution_count": 1,
   "metadata": {},
   "outputs": [
    {
     "name": "stdout",
     "output_type": "stream",
     "text": [
      "PyTorch version 1.7.0\n",
      "IndexedConv version 1.3\n"
     ]
    }
   ],
   "source": [
    "import torch\n",
    "print('PyTorch version', torch.__version__)\n",
    "from torchvision import transforms\n",
    "import indexedconv\n",
    "print('IndexedConv version', indexedconv.__version__)\n",
    "import os\n",
    "import importlib\n",
    "import torch\n",
    "import torch.nn as nn\n",
    "from minimultinet import MiniMultiNet, load_camera_parameters\n",
    "from astropy.table import Table, vstack, join\n",
    "import tables\n",
    "import numpy as np"
   ]
  },
  {
   "cell_type": "code",
   "execution_count": 2,
   "metadata": {},
   "outputs": [],
   "source": [
    "checkpoint_path = 'data/net_checkpoint.tar'\n",
    "net_trained_parameters = torch.load(checkpoint_path, map_location=torch.device('cpu'))"
   ]
  },
  {
   "cell_type": "code",
   "execution_count": 3,
   "metadata": {},
   "outputs": [
    {
     "data": {
      "text/plain": [
       "torch.Size([16, 2, 7])"
      ]
     },
     "execution_count": 3,
     "metadata": {},
     "output_type": "execute_result"
    }
   ],
   "source": [
    "net_trained_parameters['feature.cv_layer0.cv0.weight'].shape"
   ]
  },
  {
   "cell_type": "code",
   "execution_count": 4,
   "metadata": {},
   "outputs": [],
   "source": [
    "camera_parameters = load_camera_parameters()"
   ]
  },
  {
   "cell_type": "code",
   "execution_count": 5,
   "metadata": {},
   "outputs": [],
   "source": [
    "minimultinet = MiniMultiNet({}, camera_parameters)"
   ]
  },
  {
   "cell_type": "code",
   "execution_count": 6,
   "metadata": {},
   "outputs": [
    {
     "data": {
      "text/plain": [
       "<All keys matched successfully>"
      ]
     },
     "execution_count": 6,
     "metadata": {},
     "output_type": "execute_result"
    }
   ],
   "source": [
    "device = torch.device('cpu')\n",
    "minimultinet.load_state_dict(torch.load(checkpoint_path, map_location=device))"
   ]
  },
  {
   "cell_type": "code",
   "execution_count": 7,
   "metadata": {},
   "outputs": [],
   "source": [
    "# reading parameters and images from the hdf5 file\n",
    "allowed_tels = [1, 2, 3, 4]\n",
    "dl1_path = 'data/dl1.h5'\n",
    "\n",
    "with tables.open_file(dl1_path) as file:\n",
    "    table_images = vstack([Table(file.root[f'/dl1/event/telescope/images/tel_00{i}'].read()) for i in allowed_tels])\n",
    "    table_parameters = vstack([Table(file.root[f'/dl1/event/telescope/parameters/tel_00{i}'].read()) for i in allowed_tels])\n",
    "    simu_parameters = Table(file.root.simulation.event.subarray.shower.read())\n",
    "    \n",
    "good_events = np.isfinite(table_parameters['hillas_intensity'])\n",
    "\n",
    "table_parameters = table_parameters[good_events]\n",
    "table_images = table_images[good_events]\n",
    "table_parameters = join(table_parameters, simu_parameters, keys='event_id')"
   ]
  },
  {
   "cell_type": "code",
   "execution_count": 8,
   "metadata": {},
   "outputs": [
    {
     "data": {
      "text/html": [
       "<i>Table length=46</i>\n",
       "<table id=\"table140355089076048\" class=\"table-striped table-bordered table-condensed\">\n",
       "<thead><tr><th>obs_id</th><th>event_id</th><th>tel_id</th><th>image [1855]</th><th>peak_time [1855]</th><th>image_mask [1855]</th></tr></thead>\n",
       "<thead><tr><th>int32</th><th>int64</th><th>int16</th><th>float32</th><th>float32</th><th>bool</th></tr></thead>\n",
       "<tr><td>7514</td><td>153614</td><td>1</td><td>-1.8468953 .. -2.420372</td><td>23.0 .. 14.0</td><td>False .. False</td></tr>\n",
       "<tr><td>7514</td><td>192801</td><td>1</td><td>-1.0080436 .. 2.7459314</td><td>25.0 .. 21.375969</td><td>False .. False</td></tr>\n",
       "<tr><td>7514</td><td>222202</td><td>1</td><td>2.3900168 .. 3.8427613</td><td>11.747786 .. 27.01762</td><td>False .. False</td></tr>\n",
       "<tr><td>7514</td><td>869911</td><td>1</td><td>-0.86586535 .. -0.71757317</td><td>7.0 .. 29.0</td><td>False .. False</td></tr>\n",
       "<tr><td>7514</td><td>940800</td><td>1</td><td>-0.645489 .. -1.4556164</td><td>8.0 .. 0.0</td><td>False .. False</td></tr>\n",
       "<tr><td>7514</td><td>952004</td><td>1</td><td>-0.6227406 .. -0.42291516</td><td>29.0 .. 22.622976</td><td>False .. False</td></tr>\n",
       "<tr><td>7514</td><td>1096802</td><td>1</td><td>-1.8582697 .. 1.8250699</td><td>27.0 .. 16.29847</td><td>False .. False</td></tr>\n",
       "<tr><td>7514</td><td>1151704</td><td>1</td><td>-0.6170534 .. 1.0158916</td><td>9.0 .. 3.6071281</td><td>False .. False</td></tr>\n",
       "<tr><td>7514</td><td>1633202</td><td>1</td><td>-0.74359214 .. 1.8047569</td><td>0.0 .. 9.277631</td><td>False .. False</td></tr>\n",
       "<tr><td>7514</td><td>31012</td><td>2</td><td>-0.44243342 .. 3.6034596</td><td>18.293615 .. 4.9885764</td><td>False .. False</td></tr>\n",
       "<tr><td>...</td><td>...</td><td>...</td><td>...</td><td>...</td><td>...</td></tr>\n",
       "<tr><td>7514</td><td>222202</td><td>4</td><td>-1.3100833 .. -1.2632775</td><td>1.0 .. 28.0</td><td>False .. False</td></tr>\n",
       "<tr><td>7514</td><td>302408</td><td>4</td><td>2.8717487 .. -1.8088514</td><td>4.5554786 .. 13.0</td><td>False .. False</td></tr>\n",
       "<tr><td>7514</td><td>869911</td><td>4</td><td>1.8977832 .. 0.36395848</td><td>20.656628 .. 6.0389557</td><td>False .. False</td></tr>\n",
       "<tr><td>7514</td><td>880610</td><td>4</td><td>0.6069742 .. 2.2660348</td><td>1.9906225 .. 19.498486</td><td>False .. False</td></tr>\n",
       "<tr><td>7514</td><td>940800</td><td>4</td><td>-2.0429668 .. 0.46808678</td><td>27.0 .. 16.13314</td><td>False .. False</td></tr>\n",
       "<tr><td>7514</td><td>952004</td><td>4</td><td>-1.9490305 .. 0.38478413</td><td>12.0 .. 23.975096</td><td>False .. False</td></tr>\n",
       "<tr><td>7514</td><td>1154506</td><td>4</td><td>-0.09087456 .. -0.07338022</td><td>26.039747 .. 6.737229</td><td>False .. False</td></tr>\n",
       "<tr><td>7514</td><td>1633202</td><td>4</td><td>4.651513 .. 3.7418213</td><td>10.293744 .. 2.6048002</td><td>False .. False</td></tr>\n",
       "<tr><td>7514</td><td>1650600</td><td>4</td><td>-0.21831468 .. -2.2253644</td><td>14.429193 .. 8.0</td><td>False .. False</td></tr>\n",
       "<tr><td>7514</td><td>1680619</td><td>4</td><td>1.6455331 .. 0.5930407</td><td>5.8722553 .. 7.5334826</td><td>False .. False</td></tr>\n",
       "</table>"
      ],
      "text/plain": [
       "<Table length=46>\n",
       "obs_id event_id tel_id ...    peak_time [1855]    image_mask [1855]\n",
       "int32   int64   int16  ...        float32                bool      \n",
       "------ -------- ------ ... ---------------------- -----------------\n",
       "  7514   153614      1 ...           23.0 .. 14.0    False .. False\n",
       "  7514   192801      1 ...      25.0 .. 21.375969    False .. False\n",
       "  7514   222202      1 ...  11.747786 .. 27.01762    False .. False\n",
       "  7514   869911      1 ...            7.0 .. 29.0    False .. False\n",
       "  7514   940800      1 ...             8.0 .. 0.0    False .. False\n",
       "  7514   952004      1 ...      29.0 .. 22.622976    False .. False\n",
       "  7514  1096802      1 ...       27.0 .. 16.29847    False .. False\n",
       "  7514  1151704      1 ...       9.0 .. 3.6071281    False .. False\n",
       "  7514  1633202      1 ...        0.0 .. 9.277631    False .. False\n",
       "  7514    31012      2 ... 18.293615 .. 4.9885764    False .. False\n",
       "   ...      ...    ... ...                    ...               ...\n",
       "  7514   222202      4 ...            1.0 .. 28.0    False .. False\n",
       "  7514   302408      4 ...      4.5554786 .. 13.0    False .. False\n",
       "  7514   869911      4 ... 20.656628 .. 6.0389557    False .. False\n",
       "  7514   880610      4 ... 1.9906225 .. 19.498486    False .. False\n",
       "  7514   940800      4 ...       27.0 .. 16.13314    False .. False\n",
       "  7514   952004      4 ...      12.0 .. 23.975096    False .. False\n",
       "  7514  1154506      4 ...  26.039747 .. 6.737229    False .. False\n",
       "  7514  1633202      4 ... 10.293744 .. 2.6048002    False .. False\n",
       "  7514  1650600      4 ...       14.429193 .. 8.0    False .. False\n",
       "  7514  1680619      4 ... 5.8722553 .. 7.5334826    False .. False"
      ]
     },
     "execution_count": 8,
     "metadata": {},
     "output_type": "execute_result"
    }
   ],
   "source": [
    "table_images"
   ]
  },
  {
   "cell_type": "code",
   "execution_count": 9,
   "metadata": {},
   "outputs": [],
   "source": [
    "event_images = table_images['image']\n",
    "event_times = table_images['peak_time']"
   ]
  },
  {
   "cell_type": "code",
   "execution_count": 10,
   "metadata": {},
   "outputs": [
    {
     "data": {
      "text/plain": [
       "(46, 1855)"
      ]
     },
     "execution_count": 10,
     "metadata": {},
     "output_type": "execute_result"
    }
   ],
   "source": [
    "event_images.shape"
   ]
  },
  {
   "cell_type": "code",
   "execution_count": 11,
   "metadata": {},
   "outputs": [
    {
     "data": {
      "text/plain": [
       "torch.Size([46, 2, 1855])"
      ]
     },
     "execution_count": 11,
     "metadata": {},
     "output_type": "execute_result"
    }
   ],
   "source": [
    "# Let's reshap that a bit to have the dimensions (n_batch, n_filters, n_pixels)\n",
    "\n",
    "X = torch.tensor([event_images, event_times]).reshape(event_images.shape[0], 2, event_images.shape[1])\n",
    "X.shape"
   ]
  },
  {
   "cell_type": "code",
   "execution_count": 12,
   "metadata": {},
   "outputs": [],
   "source": [
    "pred_dict = minimultinet(X)"
   ]
  },
  {
   "cell_type": "code",
   "execution_count": 13,
   "metadata": {},
   "outputs": [],
   "source": [
    "energy = 10**(pred_dict['energy'].detach().numpy().flatten())\n",
    "\n",
    "reco_alt = pred_dict['direction'].detach()[:,0].numpy()\n",
    "reco_az = pred_dict['direction'].detach()[:,1].numpy()\n",
    "\n",
    "reco_core_x = pred_dict['impact'].detach()[:,0].numpy()\n",
    "reco_core_y = pred_dict['impact'].detach()[:,1].numpy()\n",
    "\n",
    "reco_core_x = pred_dict['impact'].detach()[:,0].numpy()\n",
    "reco_core_y = pred_dict['impact'].detach()[:,1].numpy()\n",
    "\n",
    "reco_gammaness = torch.nn.functional.softmax(pred_dict['class'], dim=1).detach()[:,0].numpy()\n",
    "\n",
    "gammaness_cut = 0.75\n",
    "reco_type = (reco_gammaness > gammaness_cut).astype(int)"
   ]
  },
  {
   "cell_type": "code",
   "execution_count": 14,
   "metadata": {},
   "outputs": [],
   "source": [
    "pred = Table([energy, reco_alt, reco_az, reco_type], \n",
    "      names=['energy', 'reco_alt', 'reco_az', 'reco_type'])"
   ]
  },
  {
   "cell_type": "code",
   "execution_count": 15,
   "metadata": {},
   "outputs": [
    {
     "data": {
      "text/html": [
       "<i>Table length=46</i>\n",
       "<table id=\"table140355089074128\" class=\"table-striped table-bordered table-condensed\">\n",
       "<thead><tr><th>energy</th><th>reco_alt</th><th>reco_az</th><th>reco_type</th></tr></thead>\n",
       "<thead><tr><th>float32</th><th>float32</th><th>float32</th><th>int64</th></tr></thead>\n",
       "<tr><td>0.25576955</td><td>-0.011280959</td><td>0.03668693</td><td>0</td></tr>\n",
       "<tr><td>0.26230618</td><td>-0.019048821</td><td>0.039169382</td><td>0</td></tr>\n",
       "<tr><td>0.23677418</td><td>-0.018479414</td><td>0.043302055</td><td>1</td></tr>\n",
       "<tr><td>0.26939282</td><td>-0.018284895</td><td>0.06179711</td><td>0</td></tr>\n",
       "<tr><td>0.2642834</td><td>-0.024339467</td><td>0.041698586</td><td>0</td></tr>\n",
       "<tr><td>0.2649843</td><td>-0.014540911</td><td>0.061493505</td><td>1</td></tr>\n",
       "<tr><td>0.26146117</td><td>-0.017076343</td><td>0.043075394</td><td>0</td></tr>\n",
       "<tr><td>0.25628176</td><td>-0.011107618</td><td>0.0380261</td><td>0</td></tr>\n",
       "<tr><td>0.32826358</td><td>-0.05910252</td><td>0.055098232</td><td>0</td></tr>\n",
       "<tr><td>0.23325312</td><td>-0.011086293</td><td>0.03516766</td><td>0</td></tr>\n",
       "<tr><td>...</td><td>...</td><td>...</td><td>...</td></tr>\n",
       "<tr><td>7.1178193</td><td>0.011373919</td><td>-0.03485719</td><td>1</td></tr>\n",
       "<tr><td>11.607348</td><td>0.016356312</td><td>-0.03769271</td><td>1</td></tr>\n",
       "<tr><td>10.924381</td><td>0.018407293</td><td>-0.020906717</td><td>1</td></tr>\n",
       "<tr><td>3.7909498</td><td>0.05579727</td><td>-0.008351345</td><td>1</td></tr>\n",
       "<tr><td>6.421629</td><td>0.0075632697</td><td>-0.022029797</td><td>1</td></tr>\n",
       "<tr><td>4.5897937</td><td>0.032041762</td><td>-0.007567264</td><td>1</td></tr>\n",
       "<tr><td>43.289204</td><td>-0.003933677</td><td>-0.073697604</td><td>1</td></tr>\n",
       "<tr><td>6.5309534</td><td>0.06499173</td><td>-0.0044751577</td><td>1</td></tr>\n",
       "<tr><td>6.2839193</td><td>0.025894068</td><td>-0.011771016</td><td>1</td></tr>\n",
       "<tr><td>9.9767275</td><td>0.016882766</td><td>-0.017065095</td><td>1</td></tr>\n",
       "</table>"
      ],
      "text/plain": [
       "<Table length=46>\n",
       "  energy     reco_alt      reco_az    reco_type\n",
       " float32     float32       float32      int64  \n",
       "---------- ------------ ------------- ---------\n",
       "0.25576955 -0.011280959    0.03668693         0\n",
       "0.26230618 -0.019048821   0.039169382         0\n",
       "0.23677418 -0.018479414   0.043302055         1\n",
       "0.26939282 -0.018284895    0.06179711         0\n",
       " 0.2642834 -0.024339467   0.041698586         0\n",
       " 0.2649843 -0.014540911   0.061493505         1\n",
       "0.26146117 -0.017076343   0.043075394         0\n",
       "0.25628176 -0.011107618     0.0380261         0\n",
       "0.32826358  -0.05910252   0.055098232         0\n",
       "0.23325312 -0.011086293    0.03516766         0\n",
       "       ...          ...           ...       ...\n",
       " 7.1178193  0.011373919   -0.03485719         1\n",
       " 11.607348  0.016356312   -0.03769271         1\n",
       " 10.924381  0.018407293  -0.020906717         1\n",
       " 3.7909498   0.05579727  -0.008351345         1\n",
       "  6.421629 0.0075632697  -0.022029797         1\n",
       " 4.5897937  0.032041762  -0.007567264         1\n",
       " 43.289204 -0.003933677  -0.073697604         1\n",
       " 6.5309534   0.06499173 -0.0044751577         1\n",
       " 6.2839193  0.025894068  -0.011771016         1\n",
       " 9.9767275  0.016882766  -0.017065095         1"
      ]
     },
     "execution_count": 15,
     "metadata": {},
     "output_type": "execute_result"
    }
   ],
   "source": [
    "pred"
   ]
  },
  {
   "cell_type": "code",
   "execution_count": null,
   "metadata": {},
   "outputs": [],
   "source": []
  }
 ],
 "metadata": {
  "kernelspec": {
   "display_name": "Python 3",
   "language": "python",
   "name": "python3"
  },
  "language_info": {
   "codemirror_mode": {
    "name": "ipython",
    "version": 3
   },
   "file_extension": ".py",
   "mimetype": "text/x-python",
   "name": "python",
   "nbconvert_exporter": "python",
   "pygments_lexer": "ipython3",
   "version": "3.7.8"
  }
 },
 "nbformat": 4,
 "nbformat_minor": 4
}
